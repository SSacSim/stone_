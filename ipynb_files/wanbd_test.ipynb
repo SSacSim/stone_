{
 "cells": [
  {
   "cell_type": "code",
   "execution_count": null,
   "id": "57e45149",
   "metadata": {},
   "outputs": [],
   "source": [
    "import torch\n",
    "\n",
    "torch.cuda.is_available()"
   ]
  }
 ],
 "metadata": {
  "kernelspec": {
   "display_name": "Python 3",
   "language": "python",
   "name": "python3"
  },
  "language_info": {
   "name": "python",
   "version": "3.9.21"
  }
 },
 "nbformat": 4,
 "nbformat_minor": 5
}
